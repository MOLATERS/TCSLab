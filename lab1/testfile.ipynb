{
 "cells": [
  {
   "cell_type": "code",
   "execution_count": 2,
   "id": "initial_id",
   "metadata": {
    "ExecuteTime": {
     "end_time": "2024-03-21T10:27:28.519113400Z",
     "start_time": "2024-03-21T10:27:27.845127300Z"
    },
    "collapsed": true
   },
   "outputs": [
    {
     "name": "stdout",
     "output_type": "stream",
     "text": [
      "all data loaded ...\n"
     ]
    }
   ],
   "source": [
    "from Import import *\n",
    "from minHash import minhash\n",
    "from Naive import naive\n",
    "from Compare import compare\n",
    "from main import main,plot_results\n",
    "\n",
    "data_handler, set_loaded, data_loaded = load_data()\n",
    "print(\"all data loaded ...\")"
   ]
  },
  {
   "cell_type": "code",
   "execution_count": 3,
   "id": "bee93d8556e69bbb",
   "metadata": {
    "ExecuteTime": {
     "end_time": "2024-03-21T10:28:45.894275900Z",
     "start_time": "2024-03-21T10:28:32.179486100Z"
    },
    "collapsed": false
   },
   "outputs": [],
   "source": [
    "answer = minhash(900,0.13,data_handler,set_loaded,data_loaded)"
   ]
  },
  {
   "cell_type": "code",
   "execution_count": 4,
   "id": "c40fe0f3408eb408",
   "metadata": {
    "ExecuteTime": {
     "end_time": "2024-03-21T10:29:37.007410900Z",
     "start_time": "2024-03-21T10:29:36.965459500Z"
    },
    "collapsed": false
   },
   "outputs": [],
   "source": [
    "naive(0.13,data_handler)"
   ]
  },
  {
   "cell_type": "code",
   "execution_count": 5,
   "id": "2fc148dcde0ed735",
   "metadata": {
    "ExecuteTime": {
     "end_time": "2024-03-21T10:29:38.909451600Z",
     "start_time": "2024-03-21T10:29:38.358691900Z"
    },
    "collapsed": false
   },
   "outputs": [
    {
     "data": {
      "text/plain": [
       "0.9670510708401977"
      ]
     },
     "execution_count": 5,
     "metadata": {},
     "output_type": "execute_result"
    }
   ],
   "source": [
    "compare()"
   ]
  }
 ],
 "metadata": {
  "kernelspec": {
   "display_name": "Python 3",
   "language": "python",
   "name": "python3"
  },
  "language_info": {
   "codemirror_mode": {
    "name": "ipython",
    "version": 3
   },
   "file_extension": ".py",
   "mimetype": "text/x-python",
   "name": "python",
   "nbconvert_exporter": "python",
   "pygments_lexer": "ipython3",
   "version": "3.11.5"
  }
 },
 "nbformat": 4,
 "nbformat_minor": 5
}
